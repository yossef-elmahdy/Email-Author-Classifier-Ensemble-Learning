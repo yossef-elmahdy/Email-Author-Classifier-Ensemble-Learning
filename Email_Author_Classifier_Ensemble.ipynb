{
 "cells": [
  {
   "cell_type": "markdown",
   "metadata": {},
   "source": [
    "# Email Author Classification: Ensemble Learning Approach"
   ]
  },
  {
   "cell_type": "markdown",
   "metadata": {},
   "source": [
    "## Overview & Descreption "
   ]
  },
  {
   "cell_type": "markdown",
   "metadata": {},
   "source": [
    "This project is to know the author of an email depending on his/her sytle of writing the email. \n",
    "The style of writing for the author is are detected by some of the words the he/she uses most of the time. "
   ]
  },
  {
   "cell_type": "markdown",
   "metadata": {},
   "source": [
    "### Our Dataset "
   ]
  },
  {
   "cell_type": "markdown",
   "metadata": {},
   "source": [
    "Our dataset consists of more than 15000 emails from two persons: Chris & Sara distriputed and labeled evenly between them. \n",
    "Note: The data is saved in a pickle file 'word_data.pkl' for email data, and 'email_authors.pkl' for the corresponding author. "
   ]
  },
  {
   "cell_type": "markdown",
   "metadata": {},
   "source": [
    "### Our Goal"
   ]
  },
  {
   "cell_type": "markdown",
   "metadata": {},
   "source": [
    "Our goal is to classify from the testing data if the author of an email is Chris or Sara based using Ensemble Learning Methods. "
   ]
  },
  {
   "cell_type": "markdown",
   "metadata": {},
   "source": [
    "### Ensemble Learning "
   ]
  },
  {
   "cell_type": "markdown",
   "metadata": {},
   "source": [
    "We used the two main methods to compare between them in two main criteria: time of training & accuracy of testing. "
   ]
  },
  {
   "cell_type": "markdown",
   "metadata": {},
   "source": [
    " "
   ]
  },
  {
   "cell_type": "markdown",
   "metadata": {},
   "source": [
    "  "
   ]
  },
  {
   "cell_type": "markdown",
   "metadata": {},
   "source": [
    "## Main Importings"
   ]
  },
  {
   "cell_type": "code",
   "execution_count": 1,
   "metadata": {},
   "outputs": [],
   "source": [
    "import joblib\n",
    "import pickle\n",
    "import numpy as np\n",
    "from time import time "
   ]
  },
  {
   "cell_type": "markdown",
   "metadata": {},
   "source": [
    "## Data Preprocessing "
   ]
  },
  {
   "cell_type": "code",
   "execution_count": 2,
   "metadata": {},
   "outputs": [],
   "source": [
    "from sklearn.model_selection import train_test_split\n",
    "from sklearn.feature_extraction.text import TfidfVectorizer\n",
    "from sklearn.feature_selection import SelectPercentile, f_classif"
   ]
  },
  {
   "cell_type": "code",
   "execution_count": 3,
   "metadata": {},
   "outputs": [],
   "source": [
    "def vectorize_transform(features_train, labels_train, features_test):\n",
    "    \"\"\"\n",
    "        this function takes the features train and test data, vectorize the email data on them, \n",
    "        and select the most important words on them. \n",
    "        \n",
    "        2 objects are teturned: \n",
    "            -- features_train_transformed \n",
    "            -- features_test_transformed \n",
    "    \"\"\"\n",
    "    ### text vectorization--go from strings to lists of numbers\n",
    "    vectorizer = TfidfVectorizer(sublinear_tf=True, max_df=0.5, stop_words='english')\n",
    "    features_train_transformed = vectorizer.fit_transform(features_train)\n",
    "    features_test_transformed  = vectorizer.transform(features_test)\n",
    "\n",
    "\n",
    "    ### feature selection, because text is super high dimensional and \n",
    "    ### can be really computationally chewy as a result\n",
    "    selector = SelectPercentile(f_classif, percentile=10)\n",
    "    selector.fit(features_train_transformed, labels_train)\n",
    "    features_train_transformed = selector.transform(features_train_transformed).toarray()\n",
    "    features_test_transformed  = selector.transform(features_test_transformed).toarray()\n",
    "    \n",
    "    return features_train_transformed, features_test_transformed\n",
    "    "
   ]
  },
  {
   "cell_type": "code",
   "execution_count": 4,
   "metadata": {},
   "outputs": [],
   "source": [
    "def preprocess(words_file = \"./emails_data.pkl\", authors_file=\"./emails_authors.pkl\"):\n",
    "    \"\"\" \n",
    "        this function takes a pre-made list of email texts (by default word_data.pkl)\n",
    "        and the corresponding authors (by default email_authors.pkl) and performs\n",
    "        a number of preprocessing steps:\n",
    "            -- splits into training/testing sets (10% testing)\n",
    "            -- vectorizes into tfidf matrix\n",
    "            -- selects/keeps most helpful features\n",
    "\n",
    "        after this, the feaures and labels are put into numpy arrays, which play nice with sklearn functions\n",
    "\n",
    "        4 objects are returned:\n",
    "            -- training/testing features\n",
    "            -- training/testing labels\n",
    "    \"\"\"\n",
    "    ### the words (features) and authors (labels), already largely preprocessed\n",
    "    ### this preprocessing will be repeated in the text learning mini-project\n",
    "    with open(authors_file, \"rb\") as  authors_file_handler: \n",
    "        authors = joblib.load(authors_file_handler)\n",
    "    with open(words_file, \"rb\") as words_file_handler:\n",
    "        word_data = joblib.load(words_file_handler)\n",
    "        \n",
    "    features_train, features_test, labels_train, labels_test = train_test_split(word_data, authors, test_size=0.1, random_state=42)\n",
    "    features_train_transformed, features_test_transformed = vectorize_transform(features_train, labels_train, features_test)\n",
    "    \n",
    "    ### info on the data\n",
    "    print(\"Data Summary: \")\n",
    "    print(\"No. of Chris's emails in the datast : \", sum(authors))\n",
    "    print(\"No. of Sara's emails in the dataset : \", len(authors)-sum(authors))\n",
    "    print(\"=\"*70)\n",
    "    print(\"No. of Chris training emails : \", sum(labels_train))\n",
    "    print(\"No. of Sara training emails : \", len(labels_train)-sum(labels_train))\n",
    "    \n",
    "    return features_train_transformed, features_test_transformed, labels_train, labels_test"
   ]
  },
  {
   "cell_type": "markdown",
   "metadata": {},
   "source": [
    " "
   ]
  },
  {
   "cell_type": "markdown",
   "metadata": {},
   "source": [
    "  "
   ]
  },
  {
   "cell_type": "markdown",
   "metadata": {},
   "source": [
    "## Model Training  "
   ]
  },
  {
   "cell_type": "code",
   "execution_count": 5,
   "metadata": {},
   "outputs": [],
   "source": [
    "from sklearn.ensemble import RandomForestClassifier\n",
    "from sklearn.linear_model import LogisticRegression \n",
    "from sklearn.tree import DecisionTreeClassifier\n",
    "from sklearn.ensemble import BaggingClassifier\n",
    "from sklearn.ensemble import VotingClassifier\n",
    "from sklearn.naive_bayes import GaussianNB \n",
    "from sklearn.svm import SVC"
   ]
  },
  {
   "cell_type": "markdown",
   "metadata": {},
   "source": [
    "### Voting Classifier "
   ]
  },
  {
   "cell_type": "code",
   "execution_count": 6,
   "metadata": {},
   "outputs": [],
   "source": [
    "def train_voting(X_train, y_train, voting_type='hard'):\n",
    "    \"\"\"\n",
    "        this function to train the model on a voting classifier that votes between 4 classifiers: \n",
    "        Random Forest, Support Vector Machine, Gaussian Naive Bayes, Logistic Regression. \n",
    "        \n",
    "        it pickles the voting classifier in .clf file and returns the classifier. \n",
    "    \"\"\" \n",
    "    rnd_clf = RandomForestClassifier()\n",
    "    svm_clf = SVC()\n",
    "    nb_clf = GaussianNB()\n",
    "    lr_clf = LogisticRegression() \n",
    "    \n",
    "    voting_clf = VotingClassifier(\n",
    "    estimators=[('rnd', rnd_clf), ('svm', svm_clf), ('nb', nb_clf), ('lr', lr_clf)], \n",
    "    voting=voting_type\n",
    "    )\n",
    "    \n",
    "    t0 = time()\n",
    "    voting_clf.fit(X_train, y_train)\n",
    "    print(f\"Time of training for the Voting Classifier : {time()-t0:.3}s\")\n",
    "    \n",
    "    # Save the classifier \n",
    "    with open('voting_clf.clf', 'wb') as f:\n",
    "        pickle.dump(voting_clf, f)\n",
    "    \n",
    "    return voting_clf \n"
   ]
  },
  {
   "cell_type": "markdown",
   "metadata": {},
   "source": [
    "### Bagging/Pasting Classifier"
   ]
  },
  {
   "cell_type": "code",
   "execution_count": 7,
   "metadata": {},
   "outputs": [],
   "source": [
    "def train_bagging(X_train, y_train, bagging=True): \n",
    "    \"\"\"\n",
    "        this function to train the model on a bagging classifier that uses 500 small Decision Tress \n",
    "        of maxmium samples = 100 for each Decision Tree. \n",
    "        \n",
    "        it pickles the bagging classifier in .clf file and returns the classifier. \n",
    "    \"\"\" \n",
    "    bag_clf = BaggingClassifier(\n",
    "        DecisionTreeClassifier(), n_estimators=500,\n",
    "        max_samples=100, bootstrap=bagging, n_jobs=-1\n",
    "    )\n",
    "\n",
    "    t0 = time()\n",
    "    bag_clf.fit(X_train, y_train)\n",
    "    print(f\"Training Time: {time()-t0:.3}s\")\n",
    "    \n",
    "    # Save the classifier\n",
    "    with open('bagging_clf.clf', 'wb') as f:\n",
    "        pickle.dump(bag_clf, f)\n",
    "\n",
    "    return bag_clf "
   ]
  },
  {
   "cell_type": "markdown",
   "metadata": {},
   "source": [
    " "
   ]
  },
  {
   "cell_type": "markdown",
   "metadata": {},
   "source": [
    " "
   ]
  },
  {
   "cell_type": "markdown",
   "metadata": {},
   "source": [
    "## Model Testing"
   ]
  },
  {
   "cell_type": "code",
   "execution_count": 8,
   "metadata": {},
   "outputs": [],
   "source": [
    "from sklearn.metrics import classification_report"
   ]
  },
  {
   "cell_type": "markdown",
   "metadata": {},
   "source": [
    "### Classification Report"
   ]
  },
  {
   "cell_type": "code",
   "execution_count": 9,
   "metadata": {},
   "outputs": [],
   "source": [
    "def test_model(clf, X_test, y_test):\n",
    "    \"\"\"\n",
    "        this function to test the ensemble classifiers we created using the score report.\n",
    "        \n",
    "        returns the predicted values \n",
    "    \"\"\"\n",
    "    t0 = time()\n",
    "    y_pred = clf.predict(X_test) \n",
    "    print(f\"Time of predicting for {clf.__class__.__name__} Classifier : {time()-t0:.3}s\\n\")\n",
    "    print(\"\\t\\t=====Classification Report=====\\n\")\n",
    "    print(classification_report(y_test, y_pred))\n",
    "    \n",
    "    return y_pred \n",
    "    "
   ]
  },
  {
   "cell_type": "markdown",
   "metadata": {},
   "source": [
    "### Confusion Matrix Plotting "
   ]
  },
  {
   "cell_type": "code",
   "execution_count": 10,
   "metadata": {},
   "outputs": [],
   "source": [
    "import seaborn as sns\n",
    "from sklearn.metrics import confusion_matrix"
   ]
  },
  {
   "cell_type": "code",
   "execution_count": 11,
   "metadata": {},
   "outputs": [],
   "source": [
    "def plot_confusion(y_test, y_pred):\n",
    "    print(\"Test Confusion Matrix\")\n",
    "\n",
    "    ax = sns.heatmap(\n",
    "        confusion_matrix(y_test, y_pred), annot=True, fmt='d', \n",
    "        xticklabels=['Sara', 'Chris'], yticklabels=['Sara', 'Chris']\n",
    "    )"
   ]
  },
  {
   "cell_type": "markdown",
   "metadata": {},
   "source": [
    "  "
   ]
  },
  {
   "cell_type": "markdown",
   "metadata": {},
   "source": [
    "  "
   ]
  },
  {
   "cell_type": "markdown",
   "metadata": {},
   "source": [
    "## Main Code "
   ]
  },
  {
   "cell_type": "markdown",
   "metadata": {},
   "source": [
    "### Load The Classifiers (if exist) "
   ]
  },
  {
   "cell_type": "code",
   "execution_count": null,
   "metadata": {},
   "outputs": [],
   "source": [
    "# If the you have the classifiers already \n",
    "try: \n",
    "    with open(r\"voting_clf.clf\", \"rb\") as f:\n",
    "        voting_clf = pickle.load(f)\n",
    "        print(voting_clf.__repr__)\n",
    "    \n",
    "    with open(r\"bagging_clf.clf\", \"rb\") as f: \n",
    "        bag_clf = pickle.load(f)\n",
    "        print(bag_clf.__repr__)\n",
    "except FileNotFoundError as e: \n",
    "    print(e)"
   ]
  },
  {
   "cell_type": "markdown",
   "metadata": {},
   "source": [
    "### Train The Classifiers (if not exist)"
   ]
  },
  {
   "cell_type": "code",
   "execution_count": 12,
   "metadata": {
    "scrolled": true
   },
   "outputs": [
    {
     "name": "stdout",
     "output_type": "stream",
     "text": [
      "Data Summary: \n",
      "No. of Chris's emails in the datast :  8801\n",
      "No. of Sara's emails in the dataset :  8777\n",
      "======================================================================\n",
      "No. of Chris training emails :  7936\n",
      "No. of Sara training emails :  7884\n"
     ]
    }
   ],
   "source": [
    "X_train, X_test, y_train, y_test = preprocess() "
   ]
  },
  {
   "cell_type": "code",
   "execution_count": 13,
   "metadata": {},
   "outputs": [
    {
     "name": "stdout",
     "output_type": "stream",
     "text": [
      "Time of training for the Voting Classifier : 3.98e+02s\n"
     ]
    }
   ],
   "source": [
    "voting_clf = train_voting(X_train, y_train)"
   ]
  },
  {
   "cell_type": "code",
   "execution_count": 14,
   "metadata": {},
   "outputs": [
    {
     "name": "stdout",
     "output_type": "stream",
     "text": [
      "Training Time: 3.83e+02s\n"
     ]
    }
   ],
   "source": [
    "bag_clf = train_bagging(X_train, y_train, bagging=True)"
   ]
  },
  {
   "cell_type": "markdown",
   "metadata": {},
   "source": [
    "### Voting Classifier Report & Confusion Matrix"
   ]
  },
  {
   "cell_type": "code",
   "execution_count": 15,
   "metadata": {},
   "outputs": [
    {
     "name": "stdout",
     "output_type": "stream",
     "text": [
      "Time of predicting for VotingClassifier Classifier : 39.3s\n",
      "\n",
      "\t\t=====Classification Report=====\n",
      "\n",
      "              precision    recall  f1-score   support\n",
      "\n",
      "           0       0.99      0.99      0.99       893\n",
      "           1       0.99      0.99      0.99       865\n",
      "\n",
      "    accuracy                           0.99      1758\n",
      "   macro avg       0.99      0.99      0.99      1758\n",
      "weighted avg       0.99      0.99      0.99      1758\n",
      "\n"
     ]
    }
   ],
   "source": [
    "y_pred_voting = test_model(voting_clf, X_test, y_test)"
   ]
  },
  {
   "cell_type": "code",
   "execution_count": 16,
   "metadata": {},
   "outputs": [
    {
     "name": "stdout",
     "output_type": "stream",
     "text": [
      "Voting Classifier\n",
      "Test Confusion Matrix\n"
     ]
    },
    {
     "data": {
      "image/png": "[encoded data removed]",
      "text/plain": [
       "<Figure size 432x288 with 2 Axes>"
      ]
     },
     "metadata": {
      "needs_background": "light"
     },
     "output_type": "display_data"
    }
   ],
   "source": [
    "print(\"Voting Classifier\")\n",
    "plot_confusion(y_test, y_pred_voting)"
   ]
  },
  {
   "cell_type": "markdown",
   "metadata": {},
   "source": [
    "### Bagging Classifier Report & Confusion Matrix "
   ]
  },
  {
   "cell_type": "code",
   "execution_count": 17,
   "metadata": {},
   "outputs": [
    {
     "name": "stdout",
     "output_type": "stream",
     "text": [
      "Time of predicting for BaggingClassifier Classifier : 16.5s\n",
      "\n",
      "\t\t=====Classification Report=====\n",
      "\n",
      "              precision    recall  f1-score   support\n",
      "\n",
      "           0       0.95      0.75      0.84       893\n",
      "           1       0.79      0.96      0.87       865\n",
      "\n",
      "    accuracy                           0.85      1758\n",
      "   macro avg       0.87      0.86      0.85      1758\n",
      "weighted avg       0.87      0.85      0.85      1758\n",
      "\n"
     ]
    }
   ],
   "source": [
    "y_pred_bag = test_model(bag_clf, X_test, y_test)"
   ]
  },
  {
   "cell_type": "code",
   "execution_count": 18,
   "metadata": {
    "scrolled": true
   },
   "outputs": [
    {
     "name": "stdout",
     "output_type": "stream",
     "text": [
      "Bagging Classifier\n",
      "Test Confusion Matrix\n"
     ]
    },
    {
     "data": {
      "image/png": "[encoded data removed]",
      "text/plain": [
       "<Figure size 432x288 with 2 Axes>"
      ]
     },
     "metadata": {
      "needs_background": "light"
     },
     "output_type": "display_data"
    }
   ],
   "source": [
    "print(\"Bagging Classifier\")\n",
    "plot_confusion(y_test, y_pred_bag)"
   ]
  },
  {
   "cell_type": "markdown",
   "metadata": {},
   "source": [
    " "
   ]
  },
  {
   "cell_type": "markdown",
   "metadata": {},
   "source": [
    " "
   ]
  },
  {
   "cell_type": "markdown",
   "metadata": {},
   "source": [
    "## Conclusion "
   ]
  },
  {
   "cell_type": "markdown",
   "metadata": {},
   "source": [
    "From previous metrics comparison between two common Ensemble Learning approachs, in our use case we found that: \n",
    "- The Hard Voting classifier is more accurate (99%) than the Bagging classifier (85%). \n",
    "- The Hard Voting classifier is slower in training & prediction time than the Bagging classifier. "
   ]
  }
 ],
 "metadata": {
  "kernelspec": {
   "display_name": "Python 3 (ipykernel)",
   "language": "python",
   "name": "python3"
  },
  "language_info": {
   "codemirror_mode": {
    "name": "ipython",
    "version": 3
   },
   "file_extension": ".py",
   "mimetype": "text/x-python",
   "name": "python",
   "nbconvert_exporter": "python",
   "pygments_lexer": "ipython3",
   "version": "3.8.5"
  }
 },
 "nbformat": 4,
 "nbformat_minor": 4
}
